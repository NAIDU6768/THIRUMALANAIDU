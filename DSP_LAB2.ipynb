{
  "nbformat": 4,
  "nbformat_minor": 0,
  "metadata": {
    "colab": {
      "provenance": [],
      "authorship_tag": "ABX9TyOoehjC7YjRGGnf34uGo6md",
      "include_colab_link": true
    },
    "kernelspec": {
      "name": "python3",
      "display_name": "Python 3"
    },
    "language_info": {
      "name": "python"
    }
  },
  "cells": [
    {
      "cell_type": "markdown",
      "metadata": {
        "id": "view-in-github",
        "colab_type": "text"
      },
      "source": [
        "<a href=\"https://colab.research.google.com/github/NAIDU6768/THIRUMALANAIDU/blob/main/DSP_LAB2.ipynb\" target=\"_parent\"><img src=\"https://colab.research.google.com/assets/colab-badge.svg\" alt=\"Open In Colab\"/></a>"
      ]
    },
    {
      "cell_type": "markdown",
      "source": [
        "WAP to swap values of two variable without third variable"
      ],
      "metadata": {
        "id": "6cP15a72-MFP"
      }
    },
    {
      "cell_type": "code",
      "execution_count": 4,
      "metadata": {
        "colab": {
          "base_uri": "https://localhost:8080/"
        },
        "id": "NY8oZNYH-ED3",
        "outputId": "9e3ca817-cb90-47f6-bd82-b284d0975163"
      },
      "outputs": [
        {
          "output_type": "stream",
          "name": "stdout",
          "text": [
            "enter the first number5\n",
            "enter the second number6\n",
            "the swapped numbers are 6 5\n"
          ]
        }
      ],
      "source": [
        "num1=int(input(\"enter the first number\"))\n",
        "num2=int(input(\"enter the second number\"))\n",
        "num1=num1+num2\n",
        "num2=num1-num2\n",
        "num1=num1-num2\n",
        "print(\"the swapped numbers are\",num1,num2)"
      ]
    },
    {
      "cell_type": "markdown",
      "source": [
        "implement a employee management system:\n",
        "add a employee\n",
        "remove a employee\n",
        "update a details of employee"
      ],
      "metadata": {
        "id": "UfLpPPkv_rLh"
      }
    },
    {
      "cell_type": "code",
      "source": [
        "class employee:\n",
        "  def __init__(self,name,emp,id,department):\n",
        "    self.name=name\n",
        "    self.emp=emp\n",
        "    self.id=id\n",
        "    self.department=department\n",
        "def print(self):\n",
        "    print(self.name,self.emp,self.id,self.department)\n",
        "class employeemanagementsystem:\n",
        "  def __init__(self):\n",
        "    self.employee={}\n",
        "  def add_employee(self,name,emp,id,department):\n",
        "      employee=employee(name,emp,id,department)\n",
        "      self.employee[id]=employee\n",
        "      self.employee=employee\n",
        "  def remove_employee(self,id):\n",
        "      if id in self.employee:\n",
        "        del self.employee[id]\n",
        "\n",
        "\n"
      ],
      "metadata": {
        "colab": {
          "base_uri": "https://localhost:8080/",
          "height": 110
        },
        "id": "zsoDIbZy_npS",
        "outputId": "8d53e3fe-7366-4dd7-a2a9-ccb1d7dcc914"
      },
      "execution_count": 9,
      "outputs": [
        {
          "output_type": "error",
          "ename": "IndentationError",
          "evalue": "expected an indented block after 'if' statement on line 16 (<ipython-input-9-1cb82ece1e23>, line 17)",
          "traceback": [
            "\u001b[0;36m  File \u001b[0;32m\"<ipython-input-9-1cb82ece1e23>\"\u001b[0;36m, line \u001b[0;32m17\u001b[0m\n\u001b[0;31m    del self.employee[id]\u001b[0m\n\u001b[0m    ^\u001b[0m\n\u001b[0;31mIndentationError\u001b[0m\u001b[0;31m:\u001b[0m expected an indented block after 'if' statement on line 16\n"
          ]
        }
      ]
    },
    {
      "cell_type": "markdown",
      "source": [],
      "metadata": {
        "id": "xOqBOYvUExeS"
      }
    },
    {
      "cell_type": "code",
      "source": [],
      "metadata": {
        "id": "hGl6UDOMEmSm"
      },
      "execution_count": 12,
      "outputs": []
    },
    {
      "cell_type": "code",
      "source": [],
      "metadata": {
        "id": "P7MxLGMxE1py"
      },
      "execution_count": null,
      "outputs": []
    }
  ]
}